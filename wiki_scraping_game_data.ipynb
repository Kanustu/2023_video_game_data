{
 "cells": [
  {
   "cell_type": "code",
   "execution_count": 1,
   "id": "48c0789e-8f34-4047-9e29-9d77bd36d004",
   "metadata": {},
   "outputs": [],
   "source": [
    "import pandas as pd\n",
    "from bs4 import BeautifulSoup\n",
    "import requests"
   ]
  },
  {
   "cell_type": "code",
   "execution_count": 2,
   "id": "da09beed-0b70-44dc-a6f9-22c86350aa60",
   "metadata": {},
   "outputs": [],
   "source": [
    "game_ratings_url = 'https://en.wikipedia.org/wiki/2023_in_video_games'\n",
    "game_highest_selling_url = 'https://en.wikipedia.org/wiki/Best-selling_video_games_in_the_United_States_by_year'"
   ]
  },
  {
   "cell_type": "code",
   "execution_count": 3,
   "id": "87711a8f-676b-44ca-8700-45b28f5e763e",
   "metadata": {},
   "outputs": [],
   "source": [
    "ratings = requests.get(game_ratings_url)\n",
    "sales = requests.get(game_highest_selling_url)"
   ]
  },
  {
   "cell_type": "code",
   "execution_count": 4,
   "id": "2ddcbf50-3539-41df-8893-fdc47563e6fc",
   "metadata": {},
   "outputs": [],
   "source": [
    "ratings_soup = BeautifulSoup(ratings.text, 'html')\n",
    "sales_soup = BeautifulSoup(sales.text, 'html')"
   ]
  },
  {
   "cell_type": "code",
   "execution_count": 5,
   "id": "56254f37-0e5a-49fd-bbd9-fdb415c4348e",
   "metadata": {},
   "outputs": [],
   "source": [
    "ratings_table = ratings_soup.find_all('table')[3]\n",
    "sales_table = sales_soup.find_all('table')[27]"
   ]
  },
  {
   "cell_type": "code",
   "execution_count": 6,
   "id": "e6ba8d4c-6463-4786-abdc-328dd4ad9897",
   "metadata": {},
   "outputs": [],
   "source": [
    "ratings_header = ratings_table.find_all('th')\n",
    "sales_header = sales_table.find_all('th')"
   ]
  },
  {
   "cell_type": "code",
   "execution_count": 7,
   "id": "b74b1ef9-8cec-447c-80bb-35f32228fac5",
   "metadata": {},
   "outputs": [],
   "source": [
    "ratings_titles = [title.text.strip() for title in ratings_header]\n",
    "sales_titles = [title.text.strip() for title in sales_header]"
   ]
  },
  {
   "cell_type": "code",
   "execution_count": 8,
   "id": "41737e5f-5102-4d72-a370-c6727e76016b",
   "metadata": {},
   "outputs": [],
   "source": [
    "ratings_df = pd.DataFrame(columns = ratings_titles)\n",
    "sales_df = pd.DataFrame(columns = sales_titles)"
   ]
  },
  {
   "cell_type": "code",
   "execution_count": 9,
   "id": "436e04b8-2dd8-4e0e-b8c3-eded71d9a7a1",
   "metadata": {},
   "outputs": [],
   "source": [
    "ratings_rows = ratings_table.find_all('tr')\n",
    "sales_rows = sales_table.find_all('tr')"
   ]
  },
  {
   "cell_type": "code",
   "execution_count": 10,
   "id": "51b2341c-3e65-4335-be45-f870859fa575",
   "metadata": {},
   "outputs": [],
   "source": [
    "# Iterate through each row in the data_rows list, starting from the second row (index 1)\n",
    "for row in ratings_rows[1:]:\n",
    "    # Extract all the 'td' elements from the current row\n",
    "    row_data = row.find_all('td')\n",
    "    \n",
    "    # Extract the text from each 'td' element, stripping any leading or trailing whitespace\n",
    "    single_row_data = [data.text.strip() for data in row_data]\n",
    "    # Some games have the same publisher/developer but that is not reflected in the data that was scraped, so a duplicate\n",
    "    # of position 1 needs to be inserted into position 2\n",
    "    # Check if the length of single_row_data is 5 (indicating there are 5 elements in the row)\n",
    "    if len(single_row_data) == 5:\n",
    "        # Insert a duplicate of the second element into the third position\n",
    "        single_row_data.insert(2, single_row_data[1])\n",
    "    length = len(ratings_df)\n",
    "    ratings_df.loc[length] = single_row_data"
   ]
  },
  {
   "cell_type": "code",
   "execution_count": 11,
   "id": "6500ec71-0adf-40c0-a858-c4b89ed70788",
   "metadata": {},
   "outputs": [],
   "source": [
    "new_list = []\n",
    "for row in sales_rows[1:]:\n",
    "    row_data = row.find_all('td')\n",
    "    single_row_data = [data.text.strip()for data in row_data]\n",
    "    new_list.append(single_row_data)\n",
    "    #length = len(sales_df)\n",
    "    #sales_df.loc[length] = single_row_data\n",
    "    \n",
    "new_list[9].insert(3, new_list[8][3])\n",
    "new_list[6].insert(3, new_list[5][3])\n",
    "\n",
    "for list in new_list:\n",
    "    length = len(sales_df)\n",
    "    sales_df.loc[length] = list"
   ]
  },
  {
   "cell_type": "code",
   "execution_count": 12,
   "id": "4f07d46f-4358-4718-a896-bf3ebd2e5508",
   "metadata": {},
   "outputs": [],
   "source": [
    "sales_df.drop(columns=['Note'], inplace = True)"
   ]
  },
  {
   "cell_type": "code",
   "execution_count": 14,
   "id": "ab77b9f9-bb7d-4fd9-bb4c-87efe4a24044",
   "metadata": {},
   "outputs": [],
   "source": [
    "ratings_df.to_csv('top_rated_games_2023.csv', index=False)\n",
    "sales_df.to_csv('top_selling_games_2023.csv', index=False)"
   ]
  }
 ],
 "metadata": {
  "kernelspec": {
   "display_name": "ava",
   "language": "python",
   "name": "ava"
  },
  "language_info": {
   "codemirror_mode": {
    "name": "ipython",
    "version": 3
   },
   "file_extension": ".py",
   "mimetype": "text/x-python",
   "name": "python",
   "nbconvert_exporter": "python",
   "pygments_lexer": "ipython3",
   "version": "3.10.13"
  }
 },
 "nbformat": 4,
 "nbformat_minor": 5
}
