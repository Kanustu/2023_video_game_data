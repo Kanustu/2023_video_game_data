{
 "cells": [
  {
   "cell_type": "code",
   "execution_count": 1,
   "id": "48c0789e-8f34-4047-9e29-9d77bd36d004",
   "metadata": {},
   "outputs": [],
   "source": [
    "import pandas as pd\n",
    "from bs4 import BeautifulSoup\n",
    "import requests"
   ]
  },
  {
   "cell_type": "code",
   "execution_count": 2,
   "id": "da09beed-0b70-44dc-a6f9-22c86350aa60",
   "metadata": {},
   "outputs": [],
   "source": [
    "url = 'https://en.wikipedia.org/wiki/2023_in_video_games'"
   ]
  },
  {
   "cell_type": "code",
   "execution_count": 3,
   "id": "87711a8f-676b-44ca-8700-45b28f5e763e",
   "metadata": {},
   "outputs": [],
   "source": [
    "page = requests.get(url)"
   ]
  },
  {
   "cell_type": "code",
   "execution_count": 4,
   "id": "2ddcbf50-3539-41df-8893-fdc47563e6fc",
   "metadata": {},
   "outputs": [],
   "source": [
    "soup = BeautifulSoup(page.text, 'html')"
   ]
  },
  {
   "cell_type": "code",
   "execution_count": 5,
   "id": "56254f37-0e5a-49fd-bbd9-fdb415c4348e",
   "metadata": {},
   "outputs": [],
   "source": [
    "table = soup.find_all('table')[3]"
   ]
  },
  {
   "cell_type": "code",
   "execution_count": 6,
   "id": "e6ba8d4c-6463-4786-abdc-328dd4ad9897",
   "metadata": {},
   "outputs": [],
   "source": [
    "games_header = table.find_all('th')"
   ]
  },
  {
   "cell_type": "code",
   "execution_count": 7,
   "id": "b74b1ef9-8cec-447c-80bb-35f32228fac5",
   "metadata": {},
   "outputs": [],
   "source": [
    "games_titles = [title.text.strip() for title in games_header]"
   ]
  },
  {
   "cell_type": "code",
   "execution_count": 8,
   "id": "41737e5f-5102-4d72-a370-c6727e76016b",
   "metadata": {},
   "outputs": [],
   "source": [
    "df = pd.DataFrame(columns = games_titles)"
   ]
  },
  {
   "cell_type": "code",
   "execution_count": 9,
   "id": "436e04b8-2dd8-4e0e-b8c3-eded71d9a7a1",
   "metadata": {},
   "outputs": [],
   "source": [
    "data_rows = table.find_all('tr')"
   ]
  },
  {
   "cell_type": "code",
   "execution_count": 11,
   "id": "51b2341c-3e65-4335-be45-f870859fa575",
   "metadata": {},
   "outputs": [],
   "source": [
    "# Iterate through each row in the data_rows list, starting from the second row (index 1)\n",
    "for row in data_rows[1:]:\n",
    "    # Extract all the 'td' elements from the current row\n",
    "    row_data = row.find_all('td')\n",
    "    \n",
    "    # Extract the text from each 'td' element, stripping any leading or trailing whitespace\n",
    "    single_row_data = [data.text.strip() for data in row_data]\n",
    "    # Some games have the same publisher/developer but that is not reflected in the data that was scraped, so a duplicate\n",
    "    # of position 1 needs to be inserted into position 2\n",
    "    # Check if the length of single_row_data is 5 (indicating there are 5 elements in the row)\n",
    "    if len(single_row_data) == 5:\n",
    "        # Insert a duplicate of the second element into the third position\n",
    "        single_row_data.insert(2, single_row_data[1])\n",
    "    length = len(df)\n",
    "    df.loc[length] = single_row_data"
   ]
  },
  {
   "cell_type": "code",
   "execution_count": 13,
   "id": "ab77b9f9-bb7d-4fd9-bb4c-87efe4a24044",
   "metadata": {},
   "outputs": [],
   "source": [
    "df.to_csv('top_rated_games_2023.csv', index=False)"
   ]
  }
 ],
 "metadata": {
  "kernelspec": {
   "display_name": "ava",
   "language": "python",
   "name": "ava"
  },
  "language_info": {
   "codemirror_mode": {
    "name": "ipython",
    "version": 3
   },
   "file_extension": ".py",
   "mimetype": "text/x-python",
   "name": "python",
   "nbconvert_exporter": "python",
   "pygments_lexer": "ipython3",
   "version": "3.10.13"
  }
 },
 "nbformat": 4,
 "nbformat_minor": 5
}
